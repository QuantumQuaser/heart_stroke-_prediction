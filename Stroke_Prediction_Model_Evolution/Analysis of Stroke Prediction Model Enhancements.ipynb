{
  "nbformat": 4,
  "nbformat_minor": 0,
  "metadata": {
    "colab": {
      "provenance": []
    },
    "kernelspec": {
      "name": "python3",
      "display_name": "Python 3"
    },
    "language_info": {
      "name": "python"
    }
  },
  "cells": [
    {
      "cell_type": "code",
      "source": [
        "\n",
        "\n",
        "\n",
        "#  As a novice in the expansive realm of machine learning, I embarked on a path filled with learning, experimentation, and iterative model development.\n",
        "#  My journey began with basic models, simple in their structure but foundational in their contribution to my growing understanding of predictive\n",
        "#  analytics.With each model I developed, I assimilated new insights, gradually enhancing my skills and deepening my comprehension of the intricate\n",
        "#  dance between data and algorithms.\n",
        "\n",
        "#  In this notebook, I've highlighted three key models that represent significant milestones in my learning curve. Each model,\n",
        "#  from the initial attempts to the more sophisticated versions, illustrates a step forward in complexity and efficacy.\n",
        "#  It's a narrative of evolution, from simplicity to complexity, mirroring my own growth as a machine learning enthusiast.\n",
        "\n",
        "#  Model 3 stands as the current pinnacle of this journey. While it represents a significant improvement and a testament to my accumulated knowledge, it's by no means the end of the road\n",
        "\n"
      ],
      "metadata": {
        "id": "kM0O3H4Y2Q7e"
      },
      "execution_count": null,
      "outputs": []
    },
    {
      "cell_type": "markdown",
      "source": [
        "**Model 1: The Foundation Layer **"
      ],
      "metadata": {
        "id": "KfUuPh9jtuc1"
      }
    },
    {
      "cell_type": "code",
      "source": [
        "#Initial Preprocessing Approach:"
      ],
      "metadata": {
        "id": "UEr21Dg5t2km"
      },
      "execution_count": 1,
      "outputs": []
    },
    {
      "cell_type": "code",
      "source": [
        "numerical_transformer = Pipeline(steps=[\n",
        "    ('imputer', SimpleImputer(strategy='median')),\n",
        "    ('scaler', MinMaxScaler()),\n",
        "    ('poly', PolynomialFeatures(degree=2, include_bias=False))\n",
        "])\n"
      ],
      "metadata": {
        "id": "i0XAe1nGuD3s"
      },
      "execution_count": null,
      "outputs": []
    },
    {
      "cell_type": "markdown",
      "source": [
        "*InsightS: The median imputation was chosen over mean due to the skewed distributions observed in features like 'avg_glucose_level'. MinMaxScaler was used to normalize features, considering the varying scales observed in the exploratory data analysis.*"
      ],
      "metadata": {
        "id": "MXPyNPLMuxaF"
      }
    },
    {
      "cell_type": "code",
      "source": [
        "#Model Selection:\n",
        "model_rf = RandomForestClassifier(random_state=42)\n",
        "model_gb = GradientBoostingClassifier(random_state=42)\n",
        "...\n"
      ],
      "metadata": {
        "id": "O8H6I1sbvB1n"
      },
      "execution_count": null,
      "outputs": []
    },
    {
      "cell_type": "markdown",
      "source": [
        "*Model Choices Reflecting Data Complexity:\n",
        "RandomForest was selected for its ability to handle the non-linearity and complex interactions observed in features like 'bmi' and 'age'. GradientBoosting was chosen for its strength in sequentially reducing errors, especially effective in datasets with subtle feature interactions.*"
      ],
      "metadata": {
        "id": "OtRoodg0vMDu"
      }
    },
    {
      "cell_type": "code",
      "source": [
        "#SMOTE for Imbalance – A Response to Data Distribution:\n",
        "pipeline_rf = make_pipeline_imb(preprocessor, SMOTE(), model_rf)\n",
        "...\n"
      ],
      "metadata": {
        "id": "CcnKW-PrvOcd"
      },
      "execution_count": null,
      "outputs": []
    },
    {
      "cell_type": "markdown",
      "source": [
        "*Counteracting Imbalance: The dataset's severe class imbalance, with a much higher proportion of non-stroke instances, necessitated the use of SMOTE. This technique synthetically generated minority class samples, addressing the imbalance seen in the data*."
      ],
      "metadata": {
        "id": "lND1ycCMveYV"
      }
    },
    {
      "cell_type": "code",
      "source": [
        "#Hyperparameter Tuning\n",
        "grid_search_rf.fit(X, y)\n",
        "...\n"
      ],
      "metadata": {
        "id": "JAriCltWvmKC"
      },
      "execution_count": null,
      "outputs": []
    },
    {
      "cell_type": "markdown",
      "source": [
        "*Hyperparameter Choices Informed by Data Patterns: The parameters in GridSearchCV, such as max_depth for RandomForest, were chosen based on the dataset's complexity. For instance, deeper trees were considered to capture the intricate patterns seen in the relationships between features like 'heart_disease' and 'stroke'.*"
      ],
      "metadata": {
        "id": "X9SuFB2kvvMI"
      }
    },
    {
      "cell_type": "code",
      "source": [],
      "metadata": {
        "id": "4g21qtahwH4o"
      },
      "execution_count": null,
      "outputs": []
    },
    {
      "cell_type": "code",
      "source": [],
      "metadata": {
        "id": "f0ePkiQNwHor"
      },
      "execution_count": null,
      "outputs": []
    },
    {
      "cell_type": "markdown",
      "source": [
        "**Model 2: The Progressive Evolution **"
      ],
      "metadata": {
        "id": "KGO0rhjqv1JX"
      }
    },
    {
      "cell_type": "code",
      "source": [
        "#Enhanced Preprocessing Pipeline:\n",
        "numerical_transformer = Pipeline(steps=[\n",
        "    ('imputer', SimpleImputer(strategy='median')),\n",
        "    ('scaler', StandardScaler()),\n",
        "    ('poly', PolynomialFeatures(degree=2, include_bias=False))\n",
        "])\n",
        "...\n"
      ],
      "metadata": {
        "id": "8QqTFVezwMwf"
      },
      "execution_count": null,
      "outputs": []
    },
    {
      "cell_type": "markdown",
      "source": [
        "*StandardScaler for Improved Normalization: Based on the distribution plots, StandardScaler was introduced to handle features with a Gaussian-like distribution but with outliers, such as 'bmi'.*"
      ],
      "metadata": {
        "id": "RWF2G9g8wR60"
      }
    },
    {
      "cell_type": "code",
      "source": [
        "#Advanced Model Ensemble:\n",
        "voting_clf = VotingClassifier(estimators=[...], voting='soft')\n",
        "...\n"
      ],
      "metadata": {
        "id": "02H0qIu9wZK5"
      },
      "execution_count": null,
      "outputs": []
    },
    {
      "cell_type": "markdown",
      "source": [
        "*Insight-Led Ensemble Techniques: The Voting and Stacking classifiers were strategies to aggregate the strengths of individual models, a decision influenced by observing how different models captured different aspects of the data. For example, RandomForest was effective in random data splits, while GradientBoosting excelled in sequential error reduction.*"
      ],
      "metadata": {
        "id": "ap9KiIfAwhOG"
      }
    },
    {
      "cell_type": "code",
      "source": [
        "#Refined Hyperparameter Tuning:\n",
        "param_grid_rf = {...}\n",
        "...\n"
      ],
      "metadata": {
        "id": "tapbt2e0wmoH"
      },
      "execution_count": null,
      "outputs": []
    },
    {
      "cell_type": "markdown",
      "source": [
        "*Dataset-Informed Hyperparameter Expansion: The expanded hyperparameter ranges for GridSearchCV were a result of insights gained from initial model performances. For instance, increasing the n_estimators in RandomForest aimed to enhance its ability to learn more complex patterns identified in the data.*"
      ],
      "metadata": {
        "id": "nvODZT0ywswE"
      }
    },
    {
      "cell_type": "code",
      "source": [
        "#Intermediate Model Evaluation:\n",
        "y_pred = voting_clf.predict(X)\n",
        "...\n"
      ],
      "metadata": {
        "id": "iSAto01twxYX"
      },
      "execution_count": null,
      "outputs": []
    },
    {
      "cell_type": "markdown",
      "source": [
        "*Evaluating Against Data Complexity: The performance of the Voting and Stacking classifiers was especially critical in assessing how well these complex models captured the nuanced relationships in the data, such as the varying impacts of risk factors across different age groups.*"
      ],
      "metadata": {
        "id": "8bZ4kOKuw3P0"
      }
    },
    {
      "cell_type": "code",
      "source": [],
      "metadata": {
        "id": "7zHeJWjdxXCb"
      },
      "execution_count": null,
      "outputs": []
    },
    {
      "cell_type": "code",
      "source": [],
      "metadata": {
        "id": "z1P4I14RxWi-"
      },
      "execution_count": null,
      "outputs": []
    },
    {
      "cell_type": "markdown",
      "source": [
        "*Model 3: Finetuned*"
      ],
      "metadata": {
        "id": "E-aHWoDBxO82"
      }
    },
    {
      "cell_type": "code",
      "source": [
        "#Refining the Preprocessing Pipeline:\n",
        "num_transformer = Pipeline(steps=[\n",
        "    ('imputer', SimpleImputer(strategy='median')),\n",
        "    ('scaler', StandardScaler()),\n",
        "    ('poly', PolynomialFeatures(degree=2, include_bias=False))\n",
        "])\n",
        "cat_transformer = Pipeline(steps=[...])\n",
        "preprocessor = ColumnTransformer(transformers=[...])\n"
      ],
      "metadata": {
        "id": "kuv2RtlTxStw"
      },
      "execution_count": null,
      "outputs": []
    },
    {
      "cell_type": "markdown",
      "source": [
        "*Advanced Numerical Treatment: The median imputation and StandardScaler in the numerical pipeline were a calculated choice. Understanding that stroke risk factors like hypertension and heart disease might not follow a normal distribution, median imputation helped mitigate the influence of outliers, and StandardScaler brought all numerical features to a common scale without distorting their distributions.*"
      ],
      "metadata": {
        "id": "1Ewf-5DLxgpt"
      }
    },
    {
      "cell_type": "markdown",
      "source": [
        "*Polymerizing Features: PolynomialFeatures played a critical role in capturing interaction effects. For instance, the synergistic effect of risk factors like age and diabetes on stroke likelihood was better modeled through these engineered features.*"
      ],
      "metadata": {
        "id": "EelcwE9sxmnJ"
      }
    },
    {
      "cell_type": "code",
      "source": [
        "#Strategic Model Ensemble:\n",
        "voting_clf = VotingClassifier(estimators=[...], voting='soft')\n"
      ],
      "metadata": {
        "id": "g7DUvTYaxjQt"
      },
      "execution_count": null,
      "outputs": []
    },
    {
      "cell_type": "markdown",
      "source": [
        "*The Ensemble Strategy: The VotingClassifier was like an ensemble orchestra where each model played its part. The RandomForest brought its ability to handle non-linearity and feature interactions, GradientBoosting contributed with its sequential correction of errors, and XGBoost added its speed and efficiency. The inclusion of LogisticRegression, SVC, and ExtraTrees offered a blend of simplicity and complexity, capturing different aspects of the stroke dataset.*\n"
      ],
      "metadata": {
        "id": "wd5Ufs_Ex4vv"
      }
    },
    {
      "cell_type": "markdown",
      "source": [
        "*Soft Voting Mechanism: In this ensemble, I chose soft voting to leverage the probability estimates from each classifier. This approach allowed for a more nuanced aggregation of predictions, considering the confidence level of each model's decision. It was particularly useful in cases where the models disagreed, ensuring that the final prediction was a weighted consensus rather than a simple majority.*"
      ],
      "metadata": {
        "id": "LRddCvUWx-io"
      }
    },
    {
      "cell_type": "code",
      "source": [
        "#Hyperparameter Tailoring:\n",
        "param_grids = {...}\n"
      ],
      "metadata": {
        "id": "c20m5c8QyA4_"
      },
      "execution_count": null,
      "outputs": []
    },
    {
      "cell_type": "markdown",
      "source": [
        "*Hyperparameter Optimization: The hyperparameter spaces for each model were refined based on insights from previous iterations. For example, tweaking n_estimators and max_depth in tree-based models like RandomForest and XGBoost was pivotal in balancing model complexity and generalizability. This fine-tuning was crucial in capturing the subtleties of stroke prediction while avoiding overfitting.*"
      ],
      "metadata": {
        "id": "oZuTx-RTyHxh"
      }
    },
    {
      "cell_type": "code",
      "source": [
        "#Final Evaluation:\n",
        "y_pred = voting_clf.predict(X)\n",
        "print(\"F1 Score:\", f1_score(y, y_pred))\n",
        "print(classification_report(y, y_pred))\n"
      ],
      "metadata": {
        "id": "MwC-qgG1yLvp"
      },
      "execution_count": null,
      "outputs": []
    },
    {
      "cell_type": "markdown",
      "source": [
        "*Comprehensive Model Evaluation: The final F1 score of 0.7465 was a testament to the effectiveness of the ensemble approach. It indicated a substantial improvement in the model's ability to predict stroke instances accurately, balancing precision and recall. The classification report provided a detailed view of the model's performance across both classes, confirming its enhanced predictive power.*"
      ],
      "metadata": {
        "id": "FWLMI5v-yVZd"
      }
    }
  ]
}